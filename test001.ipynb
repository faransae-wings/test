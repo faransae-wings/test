{
  "nbformat": 4,
  "nbformat_minor": 0,
  "metadata": {
    "colab": {
      "provenance": [],
      "authorship_tag": "ABX9TyMjZt5GihW9L5dTSTKhvl0D",
      "include_colab_link": true
    },
    "kernelspec": {
      "name": "python3",
      "display_name": "Python 3"
    },
    "language_info": {
      "name": "python"
    }
  },
  "cells": [
    {
      "cell_type": "markdown",
      "metadata": {
        "id": "view-in-github",
        "colab_type": "text"
      },
      "source": [
        "<a href=\"https://colab.research.google.com/github/faransae-wings/test/blob/master/test001.ipynb\" target=\"_parent\"><img src=\"https://colab.research.google.com/assets/colab-badge.svg\" alt=\"Open In Colab\"/></a>"
      ]
    },
    {
      "cell_type": "code",
      "execution_count": 1,
      "metadata": {
        "id": "CUCJ4tzvkl7Q",
        "outputId": "cd12a109-cbb7-48f7-a885-8309d0279788",
        "colab": {
          "base_uri": "https://localhost:8080/"
        }
      },
      "outputs": [
        {
          "output_type": "stream",
          "name": "stdout",
          "text": [
            "    *\n",
            "   ***\n",
            "  *****\n",
            " *******\n",
            "*********\n"
          ]
        }
      ],
      "source": [
        "# prompt: 삼각형을 그리는 코드\n",
        "\n",
        "def draw_triangle(height):\n",
        "  \"\"\"Draws a triangle of the specified height using asterisks.\n",
        "\n",
        "  Args:\n",
        "      height: The height of the triangle.\n",
        "  \"\"\"\n",
        "  for i in range(1, height + 1):\n",
        "    print(\" \" * (height - i) + \"*\" * (2 * i - 1))\n",
        "\n",
        "# Example usage: Draw a triangle of height 5\n",
        "draw_triangle(5)\n"
      ]
    }
  ]
}